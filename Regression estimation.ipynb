{
 "cells": [
  {
   "cell_type": "markdown",
   "metadata": {},
   "source": [
    "",
    ""
   ]
  },
  {
   "cell_type": "markdown",
   "metadata": {},
   "source": [
    "First, all the libraries used in this project are imported. Briefly, each one of these libraries are used for: numpy -> mathematical calculations pandas -> all operations around data matplotlib -> ploting histograms and scatters "
   ]
  },
  {
   "cell_type": "code",
   "execution_count": 1,
   "metadata": {},
   "outputs": [],
   "source": [
    "import numpy as np\n",
    "import pandas as pd\n",
    "import matplotlib.pyplot as plt\n",
    "import time"
   ]
  },
  {
   "cell_type": "markdown",
   "metadata": {},
   "source": [
    "In this Section, all the constants used in project are defined and listed. The purpose of this application is to follow clean code tips."
   ]
  },
  {
   "cell_type": "code",
   "execution_count": 2,
   "metadata": {},
   "outputs": [],
   "source": [
    "mainFile = 'car_price_dataset.csv'\n",
    "carId = 'car_ID'\n",
    "CarName = 'CarName'\n",
    "fuelType = 'fueltype'\n",
    "carLen = 'carlength'\n",
    "carWid = 'carwidth'\n",
    "carHeight = 'carheight'\n",
    "curBweight = 'curbweight'\n",
    "cylNum = 'cylindernumber'\n",
    "engineSize = 'enginesize'\n",
    "horsePow = 'horsepower'\n",
    "cityMPG = 'citympg'\n",
    "highMPG = 'highwaympg'\n",
    "price = 'price'\n",
    "\n",
    "target = 'price'\n",
    "\n",
    "gasInDf = 'gas'\n",
    "gasVal = 0\n",
    "diesInDf = 'diesel'\n",
    "diesVal = 1\n",
    "\n",
    "numInDf2 = 'two'\n",
    "numInDf3 = 'three'\n",
    "numInDf4 = 'four'\n",
    "numInDf5 = 'five'\n",
    "numInDf6 = 'six'\n",
    "numInDf8 = 'eight'\n",
    "numInDf12 = 'twelve'\n",
    "\n",
    "intgr = 'int64'\n",
    "floatType = 'float64'\n",
    "\n",
    "colNum = 2\n",
    "facNum = 3\n",
    "\n",
    "horsPowMin = 100\n",
    "inf = float('inf')\n",
    "cityMpgMax = 15"
   ]
  },
  {
   "cell_type": "markdown",
   "metadata": {},
   "source": [
    "Loading and mining data: The input file exists in directory of this code and using the colde below, this csv file will be read and saved in a data structure named \"data\""
   ]
  },
  {
   "cell_type": "code",
   "execution_count": 3,
   "metadata": {},
   "outputs": [],
   "source": [
    "df = pd.read_csv(mainFile)"
   ]
  },
  {
   "cell_type": "markdown",
   "metadata": {},
   "source": [
    "# Part 1.\n",
    "Data head and Data tail : As I Use the codes below, the head of data and the tail of data containing five first rows and five last rows, respectively, will be showed."
   ]
  },
  {
   "cell_type": "code",
   "execution_count": 4,
   "metadata": {
    "scrolled": true
   },
   "outputs": [
    {
     "data": {
      "text/html": [
       "<div>\n",
       "<style scoped>\n",
       "    .dataframe tbody tr th:only-of-type {\n",
       "        vertical-align: middle;\n",
       "    }\n",
       "\n",
       "    .dataframe tbody tr th {\n",
       "        vertical-align: top;\n",
       "    }\n",
       "\n",
       "    .dataframe thead th {\n",
       "        text-align: right;\n",
       "    }\n",
       "</style>\n",
       "<table border=\"1\" class=\"dataframe\">\n",
       "  <thead>\n",
       "    <tr style=\"text-align: right;\">\n",
       "      <th></th>\n",
       "      <th>car_ID</th>\n",
       "      <th>CarName</th>\n",
       "      <th>fueltype</th>\n",
       "      <th>carlength</th>\n",
       "      <th>carwidth</th>\n",
       "      <th>carheight</th>\n",
       "      <th>curbweight</th>\n",
       "      <th>cylindernumber</th>\n",
       "      <th>enginesize</th>\n",
       "      <th>horsepower</th>\n",
       "      <th>citympg</th>\n",
       "      <th>highwaympg</th>\n",
       "      <th>price</th>\n",
       "    </tr>\n",
       "  </thead>\n",
       "  <tbody>\n",
       "    <tr>\n",
       "      <th>0</th>\n",
       "      <td>1</td>\n",
       "      <td>alfa-romero giulia</td>\n",
       "      <td>gas</td>\n",
       "      <td>168.8</td>\n",
       "      <td>64.1</td>\n",
       "      <td>48.8</td>\n",
       "      <td>2548</td>\n",
       "      <td>four</td>\n",
       "      <td>130.0</td>\n",
       "      <td>111.0</td>\n",
       "      <td>21</td>\n",
       "      <td>27</td>\n",
       "      <td>13495.0</td>\n",
       "    </tr>\n",
       "    <tr>\n",
       "      <th>1</th>\n",
       "      <td>2</td>\n",
       "      <td>alfa-romero stelvio</td>\n",
       "      <td>gas</td>\n",
       "      <td>168.8</td>\n",
       "      <td>64.1</td>\n",
       "      <td>48.8</td>\n",
       "      <td>2548</td>\n",
       "      <td>four</td>\n",
       "      <td>130.0</td>\n",
       "      <td>111.0</td>\n",
       "      <td>21</td>\n",
       "      <td>27</td>\n",
       "      <td>16500.0</td>\n",
       "    </tr>\n",
       "    <tr>\n",
       "      <th>2</th>\n",
       "      <td>3</td>\n",
       "      <td>alfa-romero Quadrifoglio</td>\n",
       "      <td>gas</td>\n",
       "      <td>171.2</td>\n",
       "      <td>65.5</td>\n",
       "      <td>52.4</td>\n",
       "      <td>2823</td>\n",
       "      <td>six</td>\n",
       "      <td>152.0</td>\n",
       "      <td>154.0</td>\n",
       "      <td>19</td>\n",
       "      <td>26</td>\n",
       "      <td>16500.0</td>\n",
       "    </tr>\n",
       "    <tr>\n",
       "      <th>3</th>\n",
       "      <td>4</td>\n",
       "      <td>audi 100 ls</td>\n",
       "      <td>gas</td>\n",
       "      <td>176.6</td>\n",
       "      <td>66.2</td>\n",
       "      <td>54.3</td>\n",
       "      <td>2337</td>\n",
       "      <td>four</td>\n",
       "      <td>109.0</td>\n",
       "      <td>NaN</td>\n",
       "      <td>24</td>\n",
       "      <td>30</td>\n",
       "      <td>13950.0</td>\n",
       "    </tr>\n",
       "    <tr>\n",
       "      <th>4</th>\n",
       "      <td>5</td>\n",
       "      <td>audi 100ls</td>\n",
       "      <td>gas</td>\n",
       "      <td>176.6</td>\n",
       "      <td>66.4</td>\n",
       "      <td>54.3</td>\n",
       "      <td>2824</td>\n",
       "      <td>five</td>\n",
       "      <td>136.0</td>\n",
       "      <td>115.0</td>\n",
       "      <td>18</td>\n",
       "      <td>22</td>\n",
       "      <td>NaN</td>\n",
       "    </tr>\n",
       "  </tbody>\n",
       "</table>\n",
       "</div>"
      ],
      "text/plain": [
       "   car_ID                   CarName fueltype  carlength  carwidth  carheight  \\\n",
       "0       1        alfa-romero giulia      gas      168.8      64.1       48.8   \n",
       "1       2       alfa-romero stelvio      gas      168.8      64.1       48.8   \n",
       "2       3  alfa-romero Quadrifoglio      gas      171.2      65.5       52.4   \n",
       "3       4               audi 100 ls      gas      176.6      66.2       54.3   \n",
       "4       5                audi 100ls      gas      176.6      66.4       54.3   \n",
       "\n",
       "   curbweight cylindernumber  enginesize  horsepower  citympg  highwaympg  \\\n",
       "0        2548           four       130.0       111.0       21          27   \n",
       "1        2548           four       130.0       111.0       21          27   \n",
       "2        2823            six       152.0       154.0       19          26   \n",
       "3        2337           four       109.0         NaN       24          30   \n",
       "4        2824           five       136.0       115.0       18          22   \n",
       "\n",
       "     price  \n",
       "0  13495.0  \n",
       "1  16500.0  \n",
       "2  16500.0  \n",
       "3  13950.0  \n",
       "4      NaN  "
      ]
     },
     "execution_count": 4,
     "metadata": {},
     "output_type": "execute_result"
    }
   ],
   "source": [
    "df.head()"
   ]
  },
  {
   "cell_type": "code",
   "execution_count": 5,
   "metadata": {},
   "outputs": [
    {
     "data": {
      "text/html": [
       "<div>\n",
       "<style scoped>\n",
       "    .dataframe tbody tr th:only-of-type {\n",
       "        vertical-align: middle;\n",
       "    }\n",
       "\n",
       "    .dataframe tbody tr th {\n",
       "        vertical-align: top;\n",
       "    }\n",
       "\n",
       "    .dataframe thead th {\n",
       "        text-align: right;\n",
       "    }\n",
       "</style>\n",
       "<table border=\"1\" class=\"dataframe\">\n",
       "  <thead>\n",
       "    <tr style=\"text-align: right;\">\n",
       "      <th></th>\n",
       "      <th>car_ID</th>\n",
       "      <th>CarName</th>\n",
       "      <th>fueltype</th>\n",
       "      <th>carlength</th>\n",
       "      <th>carwidth</th>\n",
       "      <th>carheight</th>\n",
       "      <th>curbweight</th>\n",
       "      <th>cylindernumber</th>\n",
       "      <th>enginesize</th>\n",
       "      <th>horsepower</th>\n",
       "      <th>citympg</th>\n",
       "      <th>highwaympg</th>\n",
       "      <th>price</th>\n",
       "    </tr>\n",
       "  </thead>\n",
       "  <tbody>\n",
       "    <tr>\n",
       "      <th>200</th>\n",
       "      <td>201</td>\n",
       "      <td>volvo 145e (sw)</td>\n",
       "      <td>gas</td>\n",
       "      <td>188.8</td>\n",
       "      <td>68.9</td>\n",
       "      <td>55.5</td>\n",
       "      <td>2952</td>\n",
       "      <td>four</td>\n",
       "      <td>141.0</td>\n",
       "      <td>114.0</td>\n",
       "      <td>23</td>\n",
       "      <td>28</td>\n",
       "      <td>16845.0</td>\n",
       "    </tr>\n",
       "    <tr>\n",
       "      <th>201</th>\n",
       "      <td>202</td>\n",
       "      <td>volvo 144ea</td>\n",
       "      <td>gas</td>\n",
       "      <td>188.8</td>\n",
       "      <td>68.8</td>\n",
       "      <td>55.5</td>\n",
       "      <td>3049</td>\n",
       "      <td>four</td>\n",
       "      <td>141.0</td>\n",
       "      <td>160.0</td>\n",
       "      <td>19</td>\n",
       "      <td>25</td>\n",
       "      <td>19045.0</td>\n",
       "    </tr>\n",
       "    <tr>\n",
       "      <th>202</th>\n",
       "      <td>203</td>\n",
       "      <td>volvo 244dl</td>\n",
       "      <td>gas</td>\n",
       "      <td>188.8</td>\n",
       "      <td>68.9</td>\n",
       "      <td>55.5</td>\n",
       "      <td>3012</td>\n",
       "      <td>six</td>\n",
       "      <td>173.0</td>\n",
       "      <td>134.0</td>\n",
       "      <td>18</td>\n",
       "      <td>23</td>\n",
       "      <td>21485.0</td>\n",
       "    </tr>\n",
       "    <tr>\n",
       "      <th>203</th>\n",
       "      <td>204</td>\n",
       "      <td>volvo 246</td>\n",
       "      <td>diesel</td>\n",
       "      <td>188.8</td>\n",
       "      <td>68.9</td>\n",
       "      <td>55.5</td>\n",
       "      <td>3217</td>\n",
       "      <td>six</td>\n",
       "      <td>145.0</td>\n",
       "      <td>106.0</td>\n",
       "      <td>26</td>\n",
       "      <td>27</td>\n",
       "      <td>22470.0</td>\n",
       "    </tr>\n",
       "    <tr>\n",
       "      <th>204</th>\n",
       "      <td>205</td>\n",
       "      <td>volvo 264gl</td>\n",
       "      <td>gas</td>\n",
       "      <td>188.8</td>\n",
       "      <td>68.9</td>\n",
       "      <td>55.5</td>\n",
       "      <td>3062</td>\n",
       "      <td>four</td>\n",
       "      <td>141.0</td>\n",
       "      <td>114.0</td>\n",
       "      <td>19</td>\n",
       "      <td>25</td>\n",
       "      <td>22625.0</td>\n",
       "    </tr>\n",
       "  </tbody>\n",
       "</table>\n",
       "</div>"
      ],
      "text/plain": [
       "     car_ID          CarName fueltype  carlength  carwidth  carheight  \\\n",
       "200     201  volvo 145e (sw)      gas      188.8      68.9       55.5   \n",
       "201     202      volvo 144ea      gas      188.8      68.8       55.5   \n",
       "202     203      volvo 244dl      gas      188.8      68.9       55.5   \n",
       "203     204        volvo 246   diesel      188.8      68.9       55.5   \n",
       "204     205      volvo 264gl      gas      188.8      68.9       55.5   \n",
       "\n",
       "     curbweight cylindernumber  enginesize  horsepower  citympg  highwaympg  \\\n",
       "200        2952           four       141.0       114.0       23          28   \n",
       "201        3049           four       141.0       160.0       19          25   \n",
       "202        3012            six       173.0       134.0       18          23   \n",
       "203        3217            six       145.0       106.0       26          27   \n",
       "204        3062           four       141.0       114.0       19          25   \n",
       "\n",
       "       price  \n",
       "200  16845.0  \n",
       "201  19045.0  \n",
       "202  21485.0  \n",
       "203  22470.0  \n",
       "204  22625.0  "
      ]
     },
     "execution_count": 5,
     "metadata": {},
     "output_type": "execute_result"
    }
   ],
   "source": [
    "df.tail()"
   ]
  },
  {
   "cell_type": "markdown",
   "metadata": {},
   "source": [
    "Describe data : As I Use the code below, a brief and usefull description of data will be showed. This description mostly shows statictical attributes of data such as mean, std , count and etc."
   ]
  },
  {
   "cell_type": "code",
   "execution_count": 6,
   "metadata": {},
   "outputs": [
    {
     "data": {
      "text/html": [
       "<div>\n",
       "<style scoped>\n",
       "    .dataframe tbody tr th:only-of-type {\n",
       "        vertical-align: middle;\n",
       "    }\n",
       "\n",
       "    .dataframe tbody tr th {\n",
       "        vertical-align: top;\n",
       "    }\n",
       "\n",
       "    .dataframe thead th {\n",
       "        text-align: right;\n",
       "    }\n",
       "</style>\n",
       "<table border=\"1\" class=\"dataframe\">\n",
       "  <thead>\n",
       "    <tr style=\"text-align: right;\">\n",
       "      <th></th>\n",
       "      <th>car_ID</th>\n",
       "      <th>carlength</th>\n",
       "      <th>carwidth</th>\n",
       "      <th>carheight</th>\n",
       "      <th>curbweight</th>\n",
       "      <th>enginesize</th>\n",
       "      <th>horsepower</th>\n",
       "      <th>citympg</th>\n",
       "      <th>highwaympg</th>\n",
       "      <th>price</th>\n",
       "    </tr>\n",
       "  </thead>\n",
       "  <tbody>\n",
       "    <tr>\n",
       "      <th>count</th>\n",
       "      <td>205.000000</td>\n",
       "      <td>205.000000</td>\n",
       "      <td>205.000000</td>\n",
       "      <td>205.000000</td>\n",
       "      <td>205.000000</td>\n",
       "      <td>191.000000</td>\n",
       "      <td>182.000000</td>\n",
       "      <td>205.000000</td>\n",
       "      <td>205.000000</td>\n",
       "      <td>185.000000</td>\n",
       "    </tr>\n",
       "    <tr>\n",
       "      <th>mean</th>\n",
       "      <td>103.000000</td>\n",
       "      <td>174.049268</td>\n",
       "      <td>65.907805</td>\n",
       "      <td>53.724878</td>\n",
       "      <td>2555.565854</td>\n",
       "      <td>125.418848</td>\n",
       "      <td>105.747253</td>\n",
       "      <td>25.219512</td>\n",
       "      <td>30.751220</td>\n",
       "      <td>13392.181984</td>\n",
       "    </tr>\n",
       "    <tr>\n",
       "      <th>std</th>\n",
       "      <td>59.322565</td>\n",
       "      <td>12.337289</td>\n",
       "      <td>2.145204</td>\n",
       "      <td>2.443522</td>\n",
       "      <td>520.680204</td>\n",
       "      <td>39.229587</td>\n",
       "      <td>40.288214</td>\n",
       "      <td>6.542142</td>\n",
       "      <td>6.886443</td>\n",
       "      <td>8235.838288</td>\n",
       "    </tr>\n",
       "    <tr>\n",
       "      <th>min</th>\n",
       "      <td>1.000000</td>\n",
       "      <td>141.100000</td>\n",
       "      <td>60.300000</td>\n",
       "      <td>47.800000</td>\n",
       "      <td>1488.000000</td>\n",
       "      <td>61.000000</td>\n",
       "      <td>52.000000</td>\n",
       "      <td>13.000000</td>\n",
       "      <td>16.000000</td>\n",
       "      <td>5118.000000</td>\n",
       "    </tr>\n",
       "    <tr>\n",
       "      <th>25%</th>\n",
       "      <td>52.000000</td>\n",
       "      <td>166.300000</td>\n",
       "      <td>64.100000</td>\n",
       "      <td>52.000000</td>\n",
       "      <td>2145.000000</td>\n",
       "      <td>97.000000</td>\n",
       "      <td>72.250000</td>\n",
       "      <td>19.000000</td>\n",
       "      <td>25.000000</td>\n",
       "      <td>7788.000000</td>\n",
       "    </tr>\n",
       "    <tr>\n",
       "      <th>50%</th>\n",
       "      <td>103.000000</td>\n",
       "      <td>173.200000</td>\n",
       "      <td>65.500000</td>\n",
       "      <td>54.100000</td>\n",
       "      <td>2414.000000</td>\n",
       "      <td>119.000000</td>\n",
       "      <td>95.000000</td>\n",
       "      <td>24.000000</td>\n",
       "      <td>30.000000</td>\n",
       "      <td>10295.000000</td>\n",
       "    </tr>\n",
       "    <tr>\n",
       "      <th>75%</th>\n",
       "      <td>154.000000</td>\n",
       "      <td>183.100000</td>\n",
       "      <td>66.900000</td>\n",
       "      <td>55.500000</td>\n",
       "      <td>2935.000000</td>\n",
       "      <td>141.000000</td>\n",
       "      <td>121.000000</td>\n",
       "      <td>30.000000</td>\n",
       "      <td>34.000000</td>\n",
       "      <td>16503.000000</td>\n",
       "    </tr>\n",
       "    <tr>\n",
       "      <th>max</th>\n",
       "      <td>205.000000</td>\n",
       "      <td>208.100000</td>\n",
       "      <td>72.300000</td>\n",
       "      <td>59.800000</td>\n",
       "      <td>4066.000000</td>\n",
       "      <td>326.000000</td>\n",
       "      <td>288.000000</td>\n",
       "      <td>49.000000</td>\n",
       "      <td>54.000000</td>\n",
       "      <td>45400.000000</td>\n",
       "    </tr>\n",
       "  </tbody>\n",
       "</table>\n",
       "</div>"
      ],
      "text/plain": [
       "           car_ID   carlength    carwidth   carheight   curbweight  \\\n",
       "count  205.000000  205.000000  205.000000  205.000000   205.000000   \n",
       "mean   103.000000  174.049268   65.907805   53.724878  2555.565854   \n",
       "std     59.322565   12.337289    2.145204    2.443522   520.680204   \n",
       "min      1.000000  141.100000   60.300000   47.800000  1488.000000   \n",
       "25%     52.000000  166.300000   64.100000   52.000000  2145.000000   \n",
       "50%    103.000000  173.200000   65.500000   54.100000  2414.000000   \n",
       "75%    154.000000  183.100000   66.900000   55.500000  2935.000000   \n",
       "max    205.000000  208.100000   72.300000   59.800000  4066.000000   \n",
       "\n",
       "       enginesize  horsepower     citympg  highwaympg         price  \n",
       "count  191.000000  182.000000  205.000000  205.000000    185.000000  \n",
       "mean   125.418848  105.747253   25.219512   30.751220  13392.181984  \n",
       "std     39.229587   40.288214    6.542142    6.886443   8235.838288  \n",
       "min     61.000000   52.000000   13.000000   16.000000   5118.000000  \n",
       "25%     97.000000   72.250000   19.000000   25.000000   7788.000000  \n",
       "50%    119.000000   95.000000   24.000000   30.000000  10295.000000  \n",
       "75%    141.000000  121.000000   30.000000   34.000000  16503.000000  \n",
       "max    326.000000  288.000000   49.000000   54.000000  45400.000000  "
      ]
     },
     "execution_count": 6,
     "metadata": {},
     "output_type": "execute_result"
    }
   ],
   "source": [
    "df.describe()"
   ]
  },
  {
   "cell_type": "markdown",
   "metadata": {},
   "source": [
    "# Part 2.\n",
    "Data information: As I Run the code below, some information about the data type in each coulumn of data will be showed. Additionally, number of non-null data is reported there."
   ]
  },
  {
   "cell_type": "code",
   "execution_count": 7,
   "metadata": {},
   "outputs": [
    {
     "name": "stdout",
     "output_type": "stream",
     "text": [
      "<class 'pandas.core.frame.DataFrame'>\n",
      "RangeIndex: 205 entries, 0 to 204\n",
      "Data columns (total 13 columns):\n",
      " #   Column          Non-Null Count  Dtype  \n",
      "---  ------          --------------  -----  \n",
      " 0   car_ID          205 non-null    int64  \n",
      " 1   CarName         205 non-null    object \n",
      " 2   fueltype        205 non-null    object \n",
      " 3   carlength       205 non-null    float64\n",
      " 4   carwidth        205 non-null    float64\n",
      " 5   carheight       205 non-null    float64\n",
      " 6   curbweight      205 non-null    int64  \n",
      " 7   cylindernumber  205 non-null    object \n",
      " 8   enginesize      191 non-null    float64\n",
      " 9   horsepower      182 non-null    float64\n",
      " 10  citympg         205 non-null    int64  \n",
      " 11  highwaympg      205 non-null    int64  \n",
      " 12  price           185 non-null    float64\n",
      "dtypes: float64(6), int64(4), object(3)\n",
      "memory usage: 20.9+ KB\n"
     ]
    }
   ],
   "source": [
    "df.info()"
   ]
  },
  {
   "cell_type": "markdown",
   "metadata": {},
   "source": [
    "Label encoding: replace the categorical value with a numeric value."
   ]
  },
  {
   "cell_type": "markdown",
   "metadata": {},
   "source": [
    "First I replace 'gas' with '0' and replace 'diesel' with 1"
   ]
  },
  {
   "cell_type": "code",
   "execution_count": 8,
   "metadata": {},
   "outputs": [],
   "source": [
    "df[fuelType] = df[fuelType].replace([gasInDf], gasVal)\n",
    "df[fuelType] = df[fuelType].replace([diesInDf], diesVal)"
   ]
  },
  {
   "cell_type": "markdown",
   "metadata": {},
   "source": [
    "Then I replace each categorical value in the 'cylindernumber' column with it's corresponding numeric value"
   ]
  },
  {
   "cell_type": "code",
   "execution_count": 9,
   "metadata": {},
   "outputs": [],
   "source": [
    "df[cylNum] = df[cylNum].replace([numInDf2], 2)\n",
    "df[cylNum] = df[cylNum].replace([numInDf3], 3)\n",
    "df[cylNum] = df[cylNum].replace([numInDf4], 4)\n",
    "df[cylNum] = df[cylNum].replace([numInDf5], 5)\n",
    "df[cylNum] = df[cylNum].replace([numInDf6], 6)\n",
    "df[cylNum] = df[cylNum].replace([numInDf8], 8)\n",
    "df[cylNum] = df[cylNum].replace([numInDf12], 12)"
   ]
  },
  {
   "cell_type": "markdown",
   "metadata": {},
   "source": [
    "# Part 3.\n",
    "Missing Data: Handling missing data is a considered as an important step in data-mining. First as I Use the code below, number of missing data in each columne will be reported."
   ]
  },
  {
   "cell_type": "code",
   "execution_count": 10,
   "metadata": {},
   "outputs": [
    {
     "data": {
      "text/plain": [
       "car_ID             0\n",
       "CarName            0\n",
       "fueltype           0\n",
       "carlength          0\n",
       "carwidth           0\n",
       "carheight          0\n",
       "curbweight         0\n",
       "cylindernumber     0\n",
       "enginesize        14\n",
       "horsepower        23\n",
       "citympg            0\n",
       "highwaympg         0\n",
       "price             20\n",
       "dtype: int64"
      ]
     },
     "execution_count": 10,
     "metadata": {},
     "output_type": "execute_result"
    }
   ],
   "source": [
    "df.isna().sum()"
   ]
  },
  {
   "cell_type": "markdown",
   "metadata": {},
   "source": [
    "In addition to previous section, we are going to fill the missing data. Missing datas can be presented in different forms; In some features it can be '-1' or '0' or 'NaN' or ... .\n",
    "The best way for handling the missing value is different in each feature, replacing by median or mode or average of given datas are examples to solve this problem.\n",
    "Application which is used here is to first calculated the average of each columne of data and then replace the missing data with the averages. It's easy approach that convinces us to neglect the error. "
   ]
  },
  {
   "cell_type": "code",
   "execution_count": 11,
   "metadata": {},
   "outputs": [],
   "source": [
    "def getMeanCol(dataFrame, colName, dataType = floatType):\n",
    "    ave = dataFrame[colName].mean() if dataType != intgr else int(dataFrame[colName].mean())\n",
    "    return ave"
   ]
  },
  {
   "cell_type": "code",
   "execution_count": 12,
   "metadata": {},
   "outputs": [],
   "source": [
    "dataTypeSeries = df.dtypes\n",
    "allCol = list(df)\n",
    "allCol.remove(price)\n",
    "for col in allCol:\n",
    "    if col == CarName:\n",
    "        continue\n",
    "    average = getMeanCol(df, col , dataTypeSeries[col])\n",
    "    df[col] = df[col].fillna(average)"
   ]
  },
  {
   "cell_type": "markdown",
   "metadata": {},
   "source": [
    "Finally, I call the method reporting missing data to check if the operations have been done properly."
   ]
  },
  {
   "cell_type": "code",
   "execution_count": 13,
   "metadata": {},
   "outputs": [
    {
     "data": {
      "text/plain": [
       "car_ID             0\n",
       "CarName            0\n",
       "fueltype           0\n",
       "carlength          0\n",
       "carwidth           0\n",
       "carheight          0\n",
       "curbweight         0\n",
       "cylindernumber     0\n",
       "enginesize         0\n",
       "horsepower         0\n",
       "citympg            0\n",
       "highwaympg         0\n",
       "price             20\n",
       "dtype: int64"
      ]
     },
     "execution_count": 13,
     "metadata": {},
     "output_type": "execute_result"
    }
   ],
   "source": [
    "df.isna().sum()"
   ]
  },
  {
   "cell_type": "markdown",
   "metadata": {},
   "source": [
    "Now the only NaN data which we have, is in target column. So I make a copy of dataframe and remove all rows with NaN data"
   ]
  },
  {
   "cell_type": "code",
   "execution_count": 14,
   "metadata": {},
   "outputs": [],
   "source": [
    "preDataframe =  df.copy()\n",
    "df = df.dropna()"
   ]
  },
  {
   "cell_type": "markdown",
   "metadata": {},
   "source": [
    "To check the operation"
   ]
  },
  {
   "cell_type": "code",
   "execution_count": 15,
   "metadata": {},
   "outputs": [
    {
     "name": "stdout",
     "output_type": "stream",
     "text": [
      "car_ID            0\n",
      "CarName           0\n",
      "fueltype          0\n",
      "carlength         0\n",
      "carwidth          0\n",
      "carheight         0\n",
      "curbweight        0\n",
      "cylindernumber    0\n",
      "enginesize        0\n",
      "horsepower        0\n",
      "citympg           0\n",
      "highwaympg        0\n",
      "price             0\n",
      "dtype: int64\n",
      "Number of available datas 185\n"
     ]
    }
   ],
   "source": [
    "print(df.isna().sum())\n",
    "print(\"Number of available datas\", len(df.index))"
   ]
  },
  {
   "cell_type": "markdown",
   "metadata": {},
   "source": [
    "The code below reutrns me a dataframe including all NaN values for target"
   ]
  },
  {
   "cell_type": "code",
   "execution_count": 16,
   "metadata": {},
   "outputs": [],
   "source": [
    "def returnTargetNan(df):\n",
    "    is_NaN = df.isnull()\n",
    "    row_has_NaN = is_NaN.any(axis=1)\n",
    "    rows_with_NaN = df[row_has_NaN]\n",
    "    return rows_with_NaN"
   ]
  },
  {
   "cell_type": "code",
   "execution_count": 17,
   "metadata": {},
   "outputs": [],
   "source": [
    "df_onlyNan = returnTargetNan(preDataframe)"
   ]
  },
  {
   "cell_type": "markdown",
   "metadata": {},
   "source": [
    "To check the operation"
   ]
  },
  {
   "cell_type": "code",
   "execution_count": 18,
   "metadata": {},
   "outputs": [
    {
     "name": "stdout",
     "output_type": "stream",
     "text": [
      "car_ID             0\n",
      "CarName            0\n",
      "fueltype           0\n",
      "carlength          0\n",
      "carwidth           0\n",
      "carheight          0\n",
      "curbweight         0\n",
      "cylindernumber     0\n",
      "enginesize         0\n",
      "horsepower         0\n",
      "citympg            0\n",
      "highwaympg         0\n",
      "price             20\n",
      "dtype: int64\n",
      "Number of available datas 20\n"
     ]
    }
   ],
   "source": [
    "print(df_onlyNan.isna().sum())\n",
    "print(\"Number of available datas\", len(df_onlyNan.index))"
   ]
  },
  {
   "cell_type": "markdown",
   "metadata": {},
   "source": [
    "# Part4.\n",
    "Calculate number of cars for each cylinder number:"
   ]
  },
  {
   "cell_type": "markdown",
   "metadata": {},
   "source": [
    "The function below returns a dataframe that special column contains only specific values; values between 'minVal' & 'maxVal'"
   ]
  },
  {
   "cell_type": "code",
   "execution_count": 19,
   "metadata": {
    "scrolled": true
   },
   "outputs": [
    {
     "name": "stdout",
     "output_type": "stream",
     "text": [
      "Number of Cars with 1 cylinder is:  0\n",
      "Number of Cars with 2 cylinder is:  4\n",
      "Number of Cars with 3 cylinder is:  1\n",
      "Number of Cars with 4 cylinder is:  143\n",
      "Number of Cars with 5 cylinder is:  9\n",
      "Number of Cars with 6 cylinder is:  22\n",
      "Number of Cars with 7 cylinder is:  0\n",
      "Number of Cars with 8 cylinder is:  5\n",
      "Number of Cars with 9 cylinder is:  0\n",
      "Number of Cars with 10 cylinder is:  0\n",
      "Number of Cars with 11 cylinder is:  0\n",
      "Number of Cars with 12 cylinder is:  1\n"
     ]
    }
   ],
   "source": [
    "for Num in range(1, 13):\n",
    "    CarsWithNumCyl = df[df[cylNum] == Num]\n",
    "    print(\"Number of Cars with %d cylinder is: \" %(Num), len(CarsWithNumCyl))"
   ]
  },
  {
   "cell_type": "markdown",
   "metadata": {},
   "source": [
    "# Part 5.\n",
    "Here I want to select cars with specific properties; fuel Type is gas, horsepower more than 100, Miles per gallon in city less than 15"
   ]
  },
  {
   "cell_type": "code",
   "execution_count": 20,
   "metadata": {},
   "outputs": [
    {
     "name": "stdout",
     "output_type": "stream",
     "text": [
      "Number of cars with wanted properties is:  6\n"
     ]
    }
   ],
   "source": [
    "goodCars = df[(df[fuelType] == gasVal) & (df[horsePow] >= horsPowMin) & (df[cityMPG] <= 15)]\n",
    "print(\"Number of cars with wanted properties is: \",str(len(goodCars)))"
   ]
  },
  {
   "cell_type": "markdown",
   "metadata": {},
   "source": [
    "# Part 6.\n",
    "Calculate the average of gas fuel Type cars Price & diesel fuel Type cars Price"
   ]
  },
  {
   "cell_type": "markdown",
   "metadata": {},
   "source": [
    "For this operation, first I make a dataframe containing only specific fuel type cars, than I calculate the average of price column in this dataframe."
   ]
  },
  {
   "cell_type": "code",
   "execution_count": 21,
   "metadata": {},
   "outputs": [
    {
     "name": "stdout",
     "output_type": "stream",
     "text": [
      "The average price of gas fuel cars is:  13170.738957831325\n"
     ]
    }
   ],
   "source": [
    "gasCars = df[df[fuelType] == gasVal]\n",
    "gasCarsAverage = gasCars[price].mean()\n",
    "print(\"The average price of gas fuel cars is: \", gasCarsAverage)"
   ]
  },
  {
   "cell_type": "code",
   "execution_count": 22,
   "metadata": {},
   "outputs": [
    {
     "name": "stdout",
     "output_type": "stream",
     "text": [
      "The average price of diesel fuel cars is:  15326.894736842105\n"
     ]
    }
   ],
   "source": [
    "diesCars = df[df[fuelType] == diesVal]\n",
    "diesCarsAverage = diesCars[price].mean()\n",
    "print(\"The average price of diesel fuel cars is: \", diesCarsAverage)"
   ]
  },
  {
   "cell_type": "markdown",
   "metadata": {},
   "source": [
    "# Part 7.\n",
    "Make comparison In terms of time between using vectorization operations and not to use vectorization."
   ]
  },
  {
   "cell_type": "code",
   "execution_count": 23,
   "metadata": {},
   "outputs": [
    {
     "name": "stdout",
     "output_type": "stream",
     "text": [
      "Time used for Vectorize Operations is:  0.002000093460083008\n",
      "Gas Cars Price average :  13170.738957831325\n",
      "Diesel Cars Price average :  15326.894736842105\n"
     ]
    }
   ],
   "source": [
    "start_time = time.time()\n",
    "\n",
    "gasCars = df[df[fuelType] == gasVal]\n",
    "gasCarsAverage_vec = gasCars[price].mean()\n",
    "\n",
    "diesCars = df[df[fuelType] == diesVal]\n",
    "diesCarsAverage_vec = diesCars[price].mean()\n",
    "\n",
    "end_time = time.time()\n",
    "print(\"Time used for Vectorize Operations is: \", end_time - start_time)\n",
    "print(\"Gas Cars Price average : \", gasCarsAverage_vec)\n",
    "print(\"Diesel Cars Price average : \", diesCarsAverage_vec)"
   ]
  },
  {
   "cell_type": "code",
   "execution_count": 24,
   "metadata": {},
   "outputs": [
    {
     "name": "stdout",
     "output_type": "stream",
     "text": [
      "Time used for In-Loop Operations is:  0.02599930763244629\n",
      "Gas Cars Price average :  13170.738957831325\n",
      "Diesel Cars Price average :  15326.894736842105\n"
     ]
    }
   ],
   "source": [
    "start1_time = time.time()\n",
    "\n",
    "gasCount = 0\n",
    "gasPriceSum = 0\n",
    "for index, row in df.iterrows():\n",
    "    if row[fuelType] == gasVal:\n",
    "            gasPriceSum += row[price]\n",
    "            gasCount += 1\n",
    "gasAve_inLoop = gasPriceSum / gasCount\n",
    "\n",
    "diesCount = 0\n",
    "diesPriceSum = 0\n",
    "for index, row in df.iterrows():\n",
    "    if row[fuelType] == diesVal:\n",
    "            diesPriceSum += row[price]\n",
    "            diesCount += 1\n",
    "diesAve_inLoop = diesPriceSum / diesCount\n",
    "\n",
    "end1_time = time.time()\n",
    "print(\"Time used for In-Loop Operations is: \", end1_time - start1_time)\n",
    "print(\"Gas Cars Price average : \", gasAve_inLoop)\n",
    "print(\"Diesel Cars Price average : \", diesAve_inLoop)"
   ]
  },
  {
   "cell_type": "markdown",
   "metadata": {},
   "source": [
    "# Part 8.\n",
    "At this part I present histogram chart for each numerical feature. A histogram is an approximate representation of the distribution of numerical data."
   ]
  },
  {
   "cell_type": "markdown",
   "metadata": {},
   "source": [
    "1st histogram is presenting distribution of gas and diesel fuel."
   ]
  },
  {
   "cell_type": "code",
   "execution_count": 25,
   "metadata": {},
   "outputs": [
    {
     "data": {
      "image/png": "[encoded data removed]",
      "text/plain": [
       "<Figure size 432x288 with 1 Axes>"
      ]
     },
     "metadata": {
      "needs_background": "light"
     },
     "output_type": "display_data"
    }
   ],
   "source": [
    "x = df[fuelType].tolist()\n",
    "num_bins = 185\n",
    "plt.hist(x, num_bins, density = True, color ='green', alpha = 1, align = 'mid')\n",
    "plt.xlabel('Fuel type') \n",
    "plt.ylabel('Car-Number') \n",
    "plt.title('Distribution of gas and diesel fuel', fontweight =\"bold\") \n",
    "plt.show()"
   ]
  },
  {
   "cell_type": "markdown",
   "metadata": {},
   "source": [
    "Car Length"
   ]
  },
  {
   "cell_type": "code",
   "execution_count": 26,
   "metadata": {},
   "outputs": [
    {
     "data": {
      "image/png": "[encoded data removed]",
      "text/plain": [
       "<Figure size 432x288 with 1 Axes>"
      ]
     },
     "metadata": {
      "needs_background": "light"
     },
     "output_type": "display_data"
    }
   ],
   "source": [
    "x = df[carLen].tolist()\n",
    "num_bins = 100\n",
    "plt.hist(x, num_bins, density = True, color ='green', alpha = 1)\n",
    "plt.xlabel('Car Length') \n",
    "plt.ylabel('Car-Number') \n",
    "plt.title('Distribution of Cars Length', fontweight =\"bold\") \n",
    "plt.show() "
   ]
  },
  {
   "cell_type": "markdown",
   "metadata": {},
   "source": [
    "Car Width"
   ]
  },
  {
   "cell_type": "code",
   "execution_count": 27,
   "metadata": {
    "scrolled": true
   },
   "outputs": [
    {
     "data": {
      "image/png": "[encoded data removed]",
      "text/plain": [
       "<Figure size 432x288 with 1 Axes>"
      ]
     },
     "metadata": {
      "needs_background": "light"
     },
     "output_type": "display_data"
    }
   ],
   "source": [
    "x = df[carWid].tolist()\n",
    "num_bins = 185\n",
    "plt.hist(x, num_bins, density = True, color ='green', alpha = 1) \n",
    "plt.xlabel('Car Width') \n",
    "plt.ylabel('Car-Number') \n",
    "plt.title('Distribution of Cars Width', fontweight =\"bold\") \n",
    "plt.show() "
   ]
  },
  {
   "cell_type": "markdown",
   "metadata": {},
   "source": [
    "Car Height"
   ]
  },
  {
   "cell_type": "code",
   "execution_count": 28,
   "metadata": {
    "scrolled": true
   },
   "outputs": [
    {
     "data": {
      "image/png": "[encoded data removed]",
      "text/plain": [
       "<Figure size 432x288 with 1 Axes>"
      ]
     },
     "metadata": {
      "needs_background": "light"
     },
     "output_type": "display_data"
    }
   ],
   "source": [
    "x = df[carHeight].tolist()\n",
    "num_bins = 185\n",
    "plt.hist(x, num_bins, density = True, color ='green', alpha = 1) \n",
    "plt.xlabel('Car Height') \n",
    "plt.ylabel('Car-Number') \n",
    "plt.title('Distribution of Cars Height', fontweight =\"bold\") \n",
    "plt.show() "
   ]
  },
  {
   "cell_type": "markdown",
   "metadata": {},
   "source": [
    "Curbweight"
   ]
  },
  {
   "cell_type": "code",
   "execution_count": 29,
   "metadata": {},
   "outputs": [
    {
     "data": {
      "image/png": "[encoded data removed]",
      "text/plain": [
       "<Figure size 432x288 with 1 Axes>"
      ]
     },
     "metadata": {
      "needs_background": "light"
     },
     "output_type": "display_data"
    }
   ],
   "source": [
    "x = df[curBweight].tolist()\n",
    "num_bins = 185\n",
    "plt.hist(x, num_bins, density = True, color ='green', alpha = 1) \n",
    "plt.xlabel('Curbweight') \n",
    "plt.ylabel('Car-Number') \n",
    "plt.title('Distribution of Curbweight', fontweight =\"bold\") \n",
    "plt.show() "
   ]
  },
  {
   "cell_type": "markdown",
   "metadata": {},
   "source": [
    "Cylinder Number"
   ]
  },
  {
   "cell_type": "code",
   "execution_count": 30,
   "metadata": {},
   "outputs": [
    {
     "data": {
      "image/png": "[encoded data removed]",
      "text/plain": [
       "<Figure size 432x288 with 1 Axes>"
      ]
     },
     "metadata": {
      "needs_background": "light"
     },
     "output_type": "display_data"
    }
   ],
   "source": [
    "x = df[cylNum].tolist()\n",
    "x.append(13)\n",
    "num_bins = 12\n",
    "plt.hist(x, num_bins, density = True, color ='green', alpha = 1) \n",
    "plt.xlabel('Cylinder Number') \n",
    "plt.ylabel('Car-Number') \n",
    "plt.title('Distribution of Cylinder Number of Cars', fontweight =\"bold\") \n",
    "plt.show() "
   ]
  },
  {
   "cell_type": "markdown",
   "metadata": {},
   "source": [
    "Engine Size"
   ]
  },
  {
   "cell_type": "code",
   "execution_count": 31,
   "metadata": {},
   "outputs": [
    {
     "data": {
      "image/png": "[encoded data removed]",
      "text/plain": [
       "<Figure size 432x288 with 1 Axes>"
      ]
     },
     "metadata": {
      "needs_background": "light"
     },
     "output_type": "display_data"
    }
   ],
   "source": [
    "x = df[engineSize].tolist()\n",
    "num_bins = 185\n",
    "plt.hist(x, num_bins, density = True, color ='green', alpha = 1) \n",
    "plt.xlabel('Engine Size') \n",
    "plt.ylabel('Car-Number') \n",
    "plt.title('Distribution of Engine Size of Cars', fontweight =\"bold\") \n",
    "plt.show() "
   ]
  },
  {
   "cell_type": "markdown",
   "metadata": {},
   "source": [
    "Horse Power"
   ]
  },
  {
   "cell_type": "code",
   "execution_count": 32,
   "metadata": {},
   "outputs": [
    {
     "data": {
      "image/png": "[encoded data removed]",
      "text/plain": [
       "<Figure size 432x288 with 1 Axes>"
      ]
     },
     "metadata": {
      "needs_background": "light"
     },
     "output_type": "display_data"
    }
   ],
   "source": [
    "x = df[horsePow].tolist()\n",
    "num_bins = 185\n",
    "plt.hist(x, num_bins, density = True, color ='green', alpha = 1) \n",
    "plt.xlabel('Horse Power') \n",
    "plt.ylabel('Car-Number') \n",
    "plt.title('Distribution of Horse Power of Cars', fontweight =\"bold\") \n",
    "plt.show() "
   ]
  },
  {
   "cell_type": "markdown",
   "metadata": {},
   "source": [
    "citympg"
   ]
  },
  {
   "cell_type": "code",
   "execution_count": 33,
   "metadata": {},
   "outputs": [
    {
     "data": {
      "image/png": "[encoded data removed]",
      "text/plain": [
       "<Figure size 432x288 with 1 Axes>"
      ]
     },
     "metadata": {
      "needs_background": "light"
     },
     "output_type": "display_data"
    }
   ],
   "source": [
    "x = df[cityMPG].tolist()\n",
    "num_bins = 49 - 12\n",
    "plt.hist(x, num_bins, density = True, color ='green', alpha = 1) \n",
    "plt.xlabel('citympg') \n",
    "plt.ylabel('Car-Number') \n",
    "plt.title('Distribution of citympg of Cars', fontweight =\"bold\") \n",
    "plt.show() "
   ]
  },
  {
   "cell_type": "markdown",
   "metadata": {},
   "source": [
    "highwaympg"
   ]
  },
  {
   "cell_type": "code",
   "execution_count": 34,
   "metadata": {},
   "outputs": [
    {
     "data": {
      "image/png": "[encoded data removed]",
      "text/plain": [
       "<Figure size 432x288 with 1 Axes>"
      ]
     },
     "metadata": {
      "needs_background": "light"
     },
     "output_type": "display_data"
    }
   ],
   "source": [
    "x = df[highMPG].tolist()\n",
    "num_bins = 54 - 16\n",
    "plt.hist(x, num_bins, density = True, color ='green', alpha = 1) \n",
    "plt.xlabel('highwaympg') \n",
    "plt.ylabel('Car-Number') \n",
    "plt.title('Distribution of highwaympg of Cars', fontweight =\"bold\") \n",
    "plt.show() "
   ]
  },
  {
   "cell_type": "markdown",
   "metadata": {},
   "source": [
    "price"
   ]
  },
  {
   "cell_type": "code",
   "execution_count": 35,
   "metadata": {
    "scrolled": true
   },
   "outputs": [
    {
     "data": {
      "image/png": "[encoded data removed]",
      "text/plain": [
       "<Figure size 432x288 with 1 Axes>"
      ]
     },
     "metadata": {
      "needs_background": "light"
     },
     "output_type": "display_data"
    }
   ],
   "source": [
    "x = df[price].tolist()\n",
    "num_bins = 185\n",
    "plt.hist(x, num_bins, density = True, color ='green', alpha = 1) \n",
    "plt.xlabel('Price') \n",
    "plt.ylabel('Car-Number') \n",
    "plt.title('Distribution of Cars price', fontweight =\"bold\") \n",
    "plt.show() "
   ]
  },
  {
   "cell_type": "markdown",
   "metadata": {},
   "source": [
    "# Part 9.\n",
    "price column Normalization"
   ]
  },
  {
   "cell_type": "markdown",
   "metadata": {},
   "source": [
    "1st calculating the average of Price column"
   ]
  },
  {
   "cell_type": "code",
   "execution_count": 36,
   "metadata": {},
   "outputs": [],
   "source": [
    "PriceAve = getMeanCol(df, price)"
   ]
  },
  {
   "cell_type": "markdown",
   "metadata": {},
   "source": [
    "2nd is calculating standard deviation by pandas method"
   ]
  },
  {
   "cell_type": "code",
   "execution_count": 37,
   "metadata": {},
   "outputs": [],
   "source": [
    "dataframeSTD = df.std(axis = 0)\n",
    "priceSTD = dataframeSTD[price]"
   ]
  },
  {
   "cell_type": "markdown",
   "metadata": {},
   "source": [
    "After that, I subtract PriceAve from price column"
   ]
  },
  {
   "cell_type": "code",
   "execution_count": 38,
   "metadata": {},
   "outputs": [],
   "source": [
    "df[price] = np.subtract(df[price], PriceAve)"
   ]
  },
  {
   "cell_type": "markdown",
   "metadata": {},
   "source": [
    "Then I devide price column by priceSTD"
   ]
  },
  {
   "cell_type": "code",
   "execution_count": 39,
   "metadata": {},
   "outputs": [],
   "source": [
    "df[price] = np.divide(df[price], priceSTD)"
   ]
  },
  {
   "cell_type": "markdown",
   "metadata": {},
   "source": [
    "To show result "
   ]
  },
  {
   "cell_type": "code",
   "execution_count": 40,
   "metadata": {},
   "outputs": [
    {
     "data": {
      "text/plain": [
       "0      0.012484\n",
       "1      0.377353\n",
       "2      0.377353\n",
       "3      0.067731\n",
       "5      0.225577\n",
       "         ...   \n",
       "200    0.419243\n",
       "201    0.686368\n",
       "202    0.982634\n",
       "203    1.102234\n",
       "204    1.121054\n",
       "Name: price, Length: 185, dtype: float64"
      ]
     },
     "execution_count": 40,
     "metadata": {},
     "output_type": "execute_result"
    }
   ],
   "source": [
    "df[price]"
   ]
  },
  {
   "cell_type": "markdown",
   "metadata": {},
   "source": [
    "# Part 10.\n",
    "Correlations between attributes and objective variable: In this part of project, I am going to demonstrate the realtions and correlation amoung attributes and objective variable. 11 attirbute is reported in our data and the objective varaible is \"Price\". The plot for each of this properties is presented below."
   ]
  },
  {
   "cell_type": "markdown",
   "metadata": {},
   "source": [
    "\"Car ID\" and \"Price\": Scatter shows there is no meaningful correlation bewteen these 2. \"Car ID\" works as an identity code for each car and doesnt have any valuable data related to \"Price\"."
   ]
  },
  {
   "cell_type": "code",
   "execution_count": 41,
   "metadata": {
    "scrolled": true
   },
   "outputs": [
    {
     "data": {
      "image/png": "[encoded data removed]",
      "text/plain": [
       "<Figure size 432x288 with 1 Axes>"
      ]
     },
     "metadata": {
      "needs_background": "light"
     },
     "output_type": "display_data"
    }
   ],
   "source": [
    "plt.ylabel('Price')\n",
    "plt.xlabel('Car ID')\n",
    "plt.title(\"Correlation between Car ID and Car-Price \", fontweight='bold')\n",
    "plt.scatter(df[carId], df[target], color = 'blue')\n",
    "plt.show()"
   ]
  },
  {
   "cell_type": "markdown",
   "metadata": {},
   "source": [
    "\"Fuel Type\" and \"Price\": Scatter below shows that there is no rational relation between \"Fuel Type\" and \"Price\" of a Car!"
   ]
  },
  {
   "cell_type": "code",
   "execution_count": 42,
   "metadata": {
    "scrolled": true
   },
   "outputs": [
    {
     "data": {
      "image/png": "[encoded data removed]",
      "text/plain": [
       "<Figure size 432x288 with 1 Axes>"
      ]
     },
     "metadata": {
      "needs_background": "light"
     },
     "output_type": "display_data"
    }
   ],
   "source": [
    "plt.ylabel('Price')\n",
    "plt.xlabel('Fuel Type')\n",
    "plt.title(\"Correlation between Fuel Type and Car-Price \", fontweight='bold')\n",
    "plt.scatter(df[fuelType], df[target], color = 'blue')\n",
    "plt.show()"
   ]
  },
  {
   "cell_type": "markdown",
   "metadata": {},
   "source": [
    "Car Length and Price: Scatter below shows that by increasing the Car Length, Price is increasing too."
   ]
  },
  {
   "cell_type": "code",
   "execution_count": 43,
   "metadata": {
    "scrolled": true
   },
   "outputs": [
    {
     "data": {
      "image/png": "[encoded data removed]",
      "text/plain": [
       "<Figure size 432x288 with 1 Axes>"
      ]
     },
     "metadata": {
      "needs_background": "light"
     },
     "output_type": "display_data"
    }
   ],
   "source": [
    "plt.ylabel('Price')\n",
    "plt.xlabel('Car Length')\n",
    "plt.title(\"Correlation between Car Length and Car-Price \", fontweight = 'bold')\n",
    "plt.scatter(df[carLen], df[target], color = 'blue')\n",
    "plt.show()"
   ]
  },
  {
   "cell_type": "markdown",
   "metadata": {},
   "source": [
    "Car Width and Price: Scatter below shows that by increasing the Car Width, Price is increasing too."
   ]
  },
  {
   "cell_type": "code",
   "execution_count": 44,
   "metadata": {
    "scrolled": true
   },
   "outputs": [
    {
     "data": {
      "image/png": "[encoded data removed]",
      "text/plain": [
       "<Figure size 432x288 with 1 Axes>"
      ]
     },
     "metadata": {
      "needs_background": "light"
     },
     "output_type": "display_data"
    }
   ],
   "source": [
    "plt.ylabel('Price')\n",
    "plt.xlabel('Car Width')\n",
    "plt.title(\"Correlation between Car Width and Car-Price \", fontweight = 'bold')\n",
    "plt.scatter(df[carWid], df[target], color = 'blue')\n",
    "plt.show()"
   ]
  },
  {
   "cell_type": "markdown",
   "metadata": {},
   "source": [
    "Car Height and Price: Scatter below shows that there is no rational relation between Car Height and Price of a Car!"
   ]
  },
  {
   "cell_type": "code",
   "execution_count": 45,
   "metadata": {},
   "outputs": [
    {
     "data": {
      "image/png": "[encoded data removed]",
      "text/plain": [
       "<Figure size 432x288 with 1 Axes>"
      ]
     },
     "metadata": {
      "needs_background": "light"
     },
     "output_type": "display_data"
    }
   ],
   "source": [
    "plt.ylabel('Price')\n",
    "plt.xlabel('Car Height')\n",
    "plt.title(\"Correlation between Car Height and Car-Price \", fontweight = 'bold')\n",
    "plt.scatter(df[carHeight], df[target], color = 'blue')\n",
    "plt.show()"
   ]
  },
  {
   "cell_type": "markdown",
   "metadata": {},
   "source": [
    "Car Weight and Price: Scatter below shows that by increasing the Car Weight, Price is increasing too."
   ]
  },
  {
   "cell_type": "code",
   "execution_count": 46,
   "metadata": {
    "scrolled": true
   },
   "outputs": [
    {
     "data": {
      "image/png": "[encoded data removed]",
      "text/plain": [
       "<Figure size 432x288 with 1 Axes>"
      ]
     },
     "metadata": {
      "needs_background": "light"
     },
     "output_type": "display_data"
    }
   ],
   "source": [
    "plt.ylabel('Price')\n",
    "plt.xlabel('Curbweight')\n",
    "plt.title(\"Correlation between Curbweight and Car-Price \", fontweight = 'bold')\n",
    "plt.scatter(df[curBweight], df[target], color = 'blue')\n",
    "plt.show()"
   ]
  },
  {
   "cell_type": "markdown",
   "metadata": {},
   "source": [
    "\"Cylinder Number\" and \"Price\": Scatter below shows that there is no rational relation between \"Cylinder Number\" and \"Price\" of a Car!"
   ]
  },
  {
   "cell_type": "code",
   "execution_count": 47,
   "metadata": {
    "scrolled": true
   },
   "outputs": [
    {
     "data": {
      "image/png": "[encoded data removed]",
      "text/plain": [
       "<Figure size 432x288 with 1 Axes>"
      ]
     },
     "metadata": {
      "needs_background": "light"
     },
     "output_type": "display_data"
    }
   ],
   "source": [
    "plt.ylabel('Price')\n",
    "plt.xlabel('Cylinder Number')\n",
    "plt.title(\"Correlation between Cylinder Number and Car-Price \", fontweight = 'bold')\n",
    "plt.scatter(df[cylNum], df[target], color = 'blue')\n",
    "plt.show()"
   ]
  },
  {
   "cell_type": "markdown",
   "metadata": {},
   "source": [
    "\"Engine Size\" and \"Price\": Scatter below shows that by increasing the \"Engine Size\", \"Price\" is increasing too."
   ]
  },
  {
   "cell_type": "code",
   "execution_count": 48,
   "metadata": {
    "scrolled": true
   },
   "outputs": [
    {
     "data": {
      "image/png": "[encoded data removed]",
      "text/plain": [
       "<Figure size 432x288 with 1 Axes>"
      ]
     },
     "metadata": {
      "needs_background": "light"
     },
     "output_type": "display_data"
    }
   ],
   "source": [
    "plt.ylabel('Price')\n",
    "plt.xlabel('Engine Size')\n",
    "plt.title(\"Correlation between Engine Size and Car-Price \", fontweight = 'bold')\n",
    "plt.scatter(df[engineSize], df[target], color = 'blue')\n",
    "plt.show()"
   ]
  },
  {
   "cell_type": "markdown",
   "metadata": {},
   "source": [
    "\"HorsePower\" and \"Price\": Scatter below shows that by increasing the \"HorsePower\", \"Price\" is increasing too."
   ]
  },
  {
   "cell_type": "code",
   "execution_count": 49,
   "metadata": {
    "scrolled": false
   },
   "outputs": [
    {
     "data": {
      "image/png": "[encoded data removed]",
      "text/plain": [
       "<Figure size 432x288 with 1 Axes>"
      ]
     },
     "metadata": {
      "needs_background": "light"
     },
     "output_type": "display_data"
    }
   ],
   "source": [
    "plt.ylabel('Price')\n",
    "plt.xlabel('HorsePower')\n",
    "plt.title(\"Correlation between HorsePower and Car-Price \", fontweight = 'bold')\n",
    "plt.scatter(df[horsePow], df[target], color = 'blue')\n",
    "plt.show()"
   ]
  },
  {
   "cell_type": "markdown",
   "metadata": {},
   "source": [
    "\"CityMPG\" and \"Price\": Scatter below shows that by increasing the \"CityMPG\", \"Price\" is decreasing."
   ]
  },
  {
   "cell_type": "code",
   "execution_count": 50,
   "metadata": {
    "scrolled": true
   },
   "outputs": [
    {
     "data": {
      "image/png": "[encoded data removed]",
      "text/plain": [
       "<Figure size 432x288 with 1 Axes>"
      ]
     },
     "metadata": {
      "needs_background": "light"
     },
     "output_type": "display_data"
    }
   ],
   "source": [
    "plt.ylabel('Price')\n",
    "plt.xlabel('CityMPG')\n",
    "plt.title(\"Correlation between CityMPG and Car-Price \", fontweight = 'bold')\n",
    "plt.scatter(df[cityMPG], df[target], color = 'blue')\n",
    "plt.show()"
   ]
  },
  {
   "cell_type": "markdown",
   "metadata": {},
   "source": [
    "So I figure out relation between reciprocal of \"cityMPG\" and \"Price\"."
   ]
  },
  {
   "cell_type": "markdown",
   "metadata": {},
   "source": [
    " For this porpose 1st I convert \"cityMPG\" values from integer to float -> by method 'astype(float)'"
   ]
  },
  {
   "cell_type": "markdown",
   "metadata": {},
   "source": [
    " 2nd I convert a list of this column into a np array and reciprocate values."
   ]
  },
  {
   "cell_type": "code",
   "execution_count": 51,
   "metadata": {},
   "outputs": [],
   "source": [
    "df[cityMPG] = df[cityMPG].astype(float) \n",
    "cityMPG_list = df[cityMPG].tolist()\n",
    "cityMPG_nparr = np.array(cityMPG_list)\n",
    "reciprocal_cityMPG = np.reciprocal(cityMPG_nparr)"
   ]
  },
  {
   "cell_type": "markdown",
   "metadata": {},
   "source": [
    "As it is shown, by increasing the \"CityMPG reciprocal\", \"Price\" is increasing too."
   ]
  },
  {
   "cell_type": "code",
   "execution_count": 52,
   "metadata": {},
   "outputs": [
    {
     "data": {
      "image/png": "[encoded data removed]",
      "text/plain": [
       "<Figure size 432x288 with 1 Axes>"
      ]
     },
     "metadata": {
      "needs_background": "light"
     },
     "output_type": "display_data"
    }
   ],
   "source": [
    "plt.ylabel('Price')\n",
    "plt.xlabel('CityMPG reciprocal')\n",
    "plt.title(\"Correlation between CityMPG reciprocal and Car-Price \", fontweight = 'bold')\n",
    "plt.scatter(reciprocal_cityMPG, df[target], color = 'blue')\n",
    "plt.show()"
   ]
  },
  {
   "cell_type": "markdown",
   "metadata": {},
   "source": [
    "\"HighwayMPG\" and \"Price\": Scatter below shows that by increasing the \"HighwayMPG\", \"Price\" is decreasing."
   ]
  },
  {
   "cell_type": "code",
   "execution_count": 53,
   "metadata": {
    "scrolled": true
   },
   "outputs": [
    {
     "data": {
      "image/png": "[encoded data removed]",
      "text/plain": [
       "<Figure size 432x288 with 1 Axes>"
      ]
     },
     "metadata": {
      "needs_background": "light"
     },
     "output_type": "display_data"
    }
   ],
   "source": [
    "plt.ylabel('Price')\n",
    "plt.xlabel('HighwayMPG')\n",
    "plt.title(\"Correlation between HighwayMPG and Car-Price \", fontweight = 'bold')\n",
    "plt.scatter(df[highMPG], df[target], color = 'blue')\n",
    "plt.show() "
   ]
  },
  {
   "cell_type": "markdown",
   "metadata": {},
   "source": [
    "I make operations for \"HighwayMPG\", as I did for \"cityMPG\"."
   ]
  },
  {
   "cell_type": "code",
   "execution_count": 54,
   "metadata": {},
   "outputs": [],
   "source": [
    "df[highMPG] = df[highMPG].astype(float) \n",
    "HighMPG_list = df[highMPG].tolist()\n",
    "HighMPG_nparr = np.array(HighMPG_list)\n",
    "reciprocal_HighMPG = np.reciprocal(HighMPG_nparr)"
   ]
  },
  {
   "cell_type": "markdown",
   "metadata": {},
   "source": [
    "As it is shown, by increasing the \"highMPG reciprocal\", \"Price\" is increasing too."
   ]
  },
  {
   "cell_type": "code",
   "execution_count": 55,
   "metadata": {},
   "outputs": [
    {
     "data": {
      "image/png": "[encoded data removed]",
      "text/plain": [
       "<Figure size 432x288 with 1 Axes>"
      ]
     },
     "metadata": {
      "needs_background": "light"
     },
     "output_type": "display_data"
    }
   ],
   "source": [
    "plt.ylabel('Price')\n",
    "plt.xlabel('HighwayMPG reciprocal')\n",
    "plt.title(\"Correlation between HighwayMPG reciprocal and Car-Price \", fontweight = 'bold')\n",
    "plt.scatter(reciprocal_HighMPG, df[target], color = 'blue')\n",
    "plt.show() "
   ]
  },
  {
   "cell_type": "markdown",
   "metadata": {},
   "source": [
    "Which attribute is most linearly related to chance of admit? Personaly, I choose \"Curb Weight\" and this attribute will be examined later by squared error. But here we can calculate correlation between each feature and target to make sure which feature is the best answer for this part."
   ]
  },
  {
   "cell_type": "code",
   "execution_count": 56,
   "metadata": {},
   "outputs": [],
   "source": [
    "def correlation(feature):\n",
    "    ans = df[feature].corr(df[target])\n",
    "    return ans"
   ]
  },
  {
   "cell_type": "code",
   "execution_count": 57,
   "metadata": {},
   "outputs": [
    {
     "name": "stdout",
     "output_type": "stream",
     "text": [
      "The correlation between  car_ID  & target is:  -0.12525516656358682\n",
      "The correlation between  fueltype  & target is:  0.07969083785960349\n",
      "The correlation between  carlength  & target is:  0.6831044905212624\n",
      "The correlation between  carwidth  & target is:  0.7554898230376418\n",
      "The correlation between  carheight  & target is:  0.11178300866357847\n",
      "The correlation between  curbweight  & target is:  0.8336024300713805\n",
      "The correlation between  cylindernumber  & target is:  0.7246781069827458\n",
      "The correlation between  enginesize  & target is:  0.7940255006472698\n",
      "The correlation between  horsepower  & target is:  0.7691815299720783\n",
      "The correlation between  citympg  & target is:  -0.6871505026661747\n",
      "The correlation between  highwaympg  & target is:  -0.6988322792725984\n"
     ]
    }
   ],
   "source": [
    "for feature in allCol:\n",
    "    if feature == CarName:\n",
    "        continue\n",
    "    print(\"The correlation between \",feature, \" & target is: \", correlation(feature))"
   ]
  },
  {
   "cell_type": "code",
   "execution_count": 58,
   "metadata": {},
   "outputs": [],
   "source": [
    "feature = curBweight"
   ]
  },
  {
   "cell_type": "markdown",
   "metadata": {},
   "source": [
    "# Part 11.\n",
    "Separating training data: In this section, train data is separated from test data. I consider missing data in columne named \"Price\" as the target in this project."
   ]
  },
  {
   "cell_type": "code",
   "execution_count": 59,
   "metadata": {},
   "outputs": [],
   "source": [
    "trainData = df[[feature, target]]\n",
    "testData = df_onlyNan[[carId, feature, target]]"
   ]
  },
  {
   "cell_type": "markdown",
   "metadata": {},
   "source": [
    "#  Part 12.\n",
    "calculate Hypothesis Function parameters; Slope (teta1) and Intercept elevation(teta0)"
   ]
  },
  {
   "cell_type": "code",
   "execution_count": 60,
   "metadata": {},
   "outputs": [],
   "source": [
    "def calcHypoPara(df, Cerite, target, ceriteList, targetList, trainNum):\n",
    "    ceriteAve = df[Cerite].mean()\n",
    "    targetAve = df[target].mean()\n",
    "    \n",
    "    sigma_x_yList = np.multiply(ceriteList, targetList)\n",
    "    sigma_x_y = np.sum(sigma_x_yList)\n",
    "     \n",
    "    exponent = 2\n",
    "    sigma_x_xList = np.power(ceriteList, exponent)\n",
    "    sigma_x_x = np.sum(sigma_x_xList)\n",
    "    \n",
    "    teta1 = (sigma_x_y - trainNum * ceriteAve * targetAve) / (sigma_x_x - trainNum * (ceriteAve ** 2))\n",
    "    teta0 = targetAve - teta1 * ceriteAve\n",
    "    return teta0, teta1"
   ]
  },
  {
   "cell_type": "markdown",
   "metadata": {},
   "source": [
    "So our Hypothesis Function is:"
   ]
  },
  {
   "cell_type": "code",
   "execution_count": 61,
   "metadata": {},
   "outputs": [],
   "source": [
    "def Hypothesis(x, teta0, teta1):\n",
    "    hypo = teta0 + teta1 * x\n",
    "    return hypo"
   ]
  },
  {
   "cell_type": "markdown",
   "metadata": {},
   "source": [
    "Now I can calculate MSE:"
   ]
  },
  {
   "cell_type": "code",
   "execution_count": 62,
   "metadata": {},
   "outputs": [],
   "source": [
    "def calc_MSE(dataFrame, CGPAList, targetList, trainNum, teta0, teta1):\n",
    "    sigma = 0    \n",
    "    hypoList = []\n",
    "    for i in range(trainNum):\n",
    "        hypo = Hypothesis(CGPAList[i], teta0, teta1)\n",
    "        hypoList.append(hypo)\n",
    "    subtractList = np.subtract(hypoList, targetList)\n",
    "    power2 = np.power(subtractList, 2)\n",
    "    sigma = np.sum(power2)    \n",
    "    sigma /= trainNum\n",
    "    return sigma, hypoList"
   ]
  },
  {
   "cell_type": "code",
   "execution_count": 63,
   "metadata": {},
   "outputs": [],
   "source": [
    "def finalPart(df, Cerite, target):\n",
    "    ceriteList = df[Cerite].tolist()\n",
    "    targetList = df[target].tolist()\n",
    "    trainNum = len(df.index)\n",
    "    teta0, teta1 = calcHypoPara(df, Cerite, target, ceriteList, targetList, trainNum)\n",
    "    MSE, hypoList = calc_MSE(df, ceriteList, targetList, trainNum, teta0, teta1)\n",
    "    return MSE, teta0, teta1, hypoList"
   ]
  },
  {
   "cell_type": "code",
   "execution_count": 64,
   "metadata": {},
   "outputs": [
    {
     "name": "stdout",
     "output_type": "stream",
     "text": [
      "Mean Squared Error is:  0.3034577616137969\n"
     ]
    }
   ],
   "source": [
    "MSE, teta0, teta1, hypoList = finalPart(trainData, feature, target)\n",
    "print(\"Mean Squared Error is: \", MSE)"
   ]
  },
  {
   "cell_type": "markdown",
   "metadata": {},
   "source": [
    "Picture below clarify concept of MSE:\n",
    "<img src=\"photo.jpg\">"
   ]
  },
  {
   "cell_type": "markdown",
   "metadata": {},
   "source": [
    "# Part 13.\n",
    "Finally the predicted line is ploted over data to show how it fits this data."
   ]
  },
  {
   "cell_type": "code",
   "execution_count": 65,
   "metadata": {},
   "outputs": [
    {
     "data": {
      "image/png": "[encoded data removed]",
      "text/plain": [
       "<Figure size 432x288 with 1 Axes>"
      ]
     },
     "metadata": {
      "needs_background": "light"
     },
     "output_type": "display_data"
    }
   ],
   "source": [
    "plt.scatter(df[feature], df[target] , color = 'purple' )\n",
    "plt.plot(trainData[feature] ,hypoList , 'pink')\n",
    "plt.xlabel(feature)\n",
    "plt.ylabel(target)\n",
    "plt.show()"
   ]
  },
  {
   "cell_type": "markdown",
   "metadata": {},
   "source": [
    "# Part 14.\n",
    "Prediction for missing data: \"Price\" for Cars is predicted and stated here. This prediction is almost precise. Of course there is an error in this prediction. Reducing the errors could be done by using other methods of regression such as polynomial regression."
   ]
  },
  {
   "cell_type": "code",
   "execution_count": 66,
   "metadata": {},
   "outputs": [
    {
     "data": {
      "text/html": [
       "<div>\n",
       "<style scoped>\n",
       "    .dataframe tbody tr th:only-of-type {\n",
       "        vertical-align: middle;\n",
       "    }\n",
       "\n",
       "    .dataframe tbody tr th {\n",
       "        vertical-align: top;\n",
       "    }\n",
       "\n",
       "    .dataframe thead th {\n",
       "        text-align: right;\n",
       "    }\n",
       "</style>\n",
       "<table border=\"1\" class=\"dataframe\">\n",
       "  <thead>\n",
       "    <tr style=\"text-align: right;\">\n",
       "      <th></th>\n",
       "      <th>car_ID</th>\n",
       "      <th>price</th>\n",
       "    </tr>\n",
       "  </thead>\n",
       "  <tbody>\n",
       "    <tr>\n",
       "      <th>4</th>\n",
       "      <td>5</td>\n",
       "      <td>16860.190653</td>\n",
       "    </tr>\n",
       "    <tr>\n",
       "      <th>29</th>\n",
       "      <td>30</td>\n",
       "      <td>16691.216568</td>\n",
       "    </tr>\n",
       "    <tr>\n",
       "      <th>31</th>\n",
       "      <td>32</td>\n",
       "      <td>3797.194059</td>\n",
       "    </tr>\n",
       "    <tr>\n",
       "      <th>52</th>\n",
       "      <td>53</td>\n",
       "      <td>4915.022623</td>\n",
       "    </tr>\n",
       "    <tr>\n",
       "      <th>53</th>\n",
       "      <td>54</td>\n",
       "      <td>5434.942886</td>\n",
       "    </tr>\n",
       "    <tr>\n",
       "      <th>59</th>\n",
       "      <td>60</td>\n",
       "      <td>11154.065773</td>\n",
       "    </tr>\n",
       "    <tr>\n",
       "      <th>62</th>\n",
       "      <td>63</td>\n",
       "      <td>11479.015937</td>\n",
       "    </tr>\n",
       "    <tr>\n",
       "      <th>67</th>\n",
       "      <td>68</td>\n",
       "      <td>25841.813188</td>\n",
       "    </tr>\n",
       "    <tr>\n",
       "      <th>78</th>\n",
       "      <td>79</td>\n",
       "      <td>6201.825273</td>\n",
       "    </tr>\n",
       "    <tr>\n",
       "      <th>84</th>\n",
       "      <td>85</td>\n",
       "      <td>18185.987323</td>\n",
       "    </tr>\n",
       "    <tr>\n",
       "      <th>87</th>\n",
       "      <td>88</td>\n",
       "      <td>11388.029891</td>\n",
       "    </tr>\n",
       "    <tr>\n",
       "      <th>88</th>\n",
       "      <td>89</td>\n",
       "      <td>11388.029891</td>\n",
       "    </tr>\n",
       "    <tr>\n",
       "      <th>104</th>\n",
       "      <td>105</td>\n",
       "      <td>20070.698274</td>\n",
       "    </tr>\n",
       "    <tr>\n",
       "      <th>123</th>\n",
       "      <td>124</td>\n",
       "      <td>13103.766757</td>\n",
       "    </tr>\n",
       "    <tr>\n",
       "      <th>136</th>\n",
       "      <td>137</td>\n",
       "      <td>16652.222548</td>\n",
       "    </tr>\n",
       "    <tr>\n",
       "      <th>137</th>\n",
       "      <td>138</td>\n",
       "      <td>17159.144804</td>\n",
       "    </tr>\n",
       "    <tr>\n",
       "      <th>141</th>\n",
       "      <td>142</td>\n",
       "      <td>8034.544198</td>\n",
       "    </tr>\n",
       "    <tr>\n",
       "      <th>149</th>\n",
       "      <td>150</td>\n",
       "      <td>14598.537512</td>\n",
       "    </tr>\n",
       "    <tr>\n",
       "      <th>181</th>\n",
       "      <td>182</td>\n",
       "      <td>21110.538799</td>\n",
       "    </tr>\n",
       "    <tr>\n",
       "      <th>189</th>\n",
       "      <td>190</td>\n",
       "      <td>9451.326913</td>\n",
       "    </tr>\n",
       "  </tbody>\n",
       "</table>\n",
       "</div>"
      ],
      "text/plain": [
       "     car_ID         price\n",
       "4         5  16860.190653\n",
       "29       30  16691.216568\n",
       "31       32   3797.194059\n",
       "52       53   4915.022623\n",
       "53       54   5434.942886\n",
       "59       60  11154.065773\n",
       "62       63  11479.015937\n",
       "67       68  25841.813188\n",
       "78       79   6201.825273\n",
       "84       85  18185.987323\n",
       "87       88  11388.029891\n",
       "88       89  11388.029891\n",
       "104     105  20070.698274\n",
       "123     124  13103.766757\n",
       "136     137  16652.222548\n",
       "137     138  17159.144804\n",
       "141     142   8034.544198\n",
       "149     150  14598.537512\n",
       "181     182  21110.538799\n",
       "189     190   9451.326913"
      ]
     },
     "execution_count": 66,
     "metadata": {},
     "output_type": "execute_result"
    }
   ],
   "source": [
    "predictedPrices = pd.Series(testData[feature], name = price) * teta1  + teta0\n",
    "predictedPrices = pd.Series(predictedPrices, name = price) * priceSTD + PriceAve\n",
    "testData = pd.concat([testData[carId] , predictedPrices] , axis = 1)\n",
    "testData"
   ]
  }
 ],
 "metadata": {
  "kernelspec": {
   "display_name": "Python 3",
   "language": "python",
   "name": "python3"
  },
  "language_info": {
   "codemirror_mode": {
    "name": "ipython",
    "version": 3
   },
   "file_extension": ".py",
   "mimetype": "text/x-python",
   "name": "python",
   "nbconvert_exporter": "python",
   "pygments_lexer": "ipython3",
   "version": "3.8.3"
  }
 },
 "nbformat": 4,
 "nbformat_minor": 4
}
